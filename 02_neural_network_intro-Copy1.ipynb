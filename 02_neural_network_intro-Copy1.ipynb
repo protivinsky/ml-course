{
 "cells": [
  {
   "cell_type": "markdown",
   "metadata": {},
   "source": [
    "# Detekce jednoduchých obrazových vzorů\n",
    "\n",
    "Vytvoříme jednoduchou neuronovou síť, která rozpozná \"typ\" obrázku 2x2:\n",
    "- vyplněný\n",
    "- vertikální\n",
    "- horizontální\n",
    "- diagonální"
   ]
  },
  {
   "cell_type": "code",
   "execution_count": 1,
   "metadata": {},
   "outputs": [],
   "source": [
    "# import of common python libraries\n",
    "import numpy as np\n",
    "import pandas as pd\n",
    "import time\n",
    "import matplotlib.pyplot as plt\n",
    "# set size to plots to 8, 4\n",
    "plt.rcParams['figure.figsize'] = 8, 4\n",
    "import seaborn as sns"
   ]
  },
  {
   "cell_type": "code",
   "execution_count": 2,
   "metadata": {},
   "outputs": [],
   "source": [
    "plt.rcParams['axes.grid'] = False\n",
    "plt.rcParams['xtick.bottom'] = False\n",
    "plt.rcParams['ytick.left'] = False\n",
    "plt.rcParams['xtick.labelsize'] = 0\n",
    "plt.rcParams['ytick.labelsize'] = 0\n",
    "plt.rcParams['axes.spines.top'] = True\n",
    "plt.rcParams['axes.spines.right'] = True"
   ]
  },
  {
   "cell_type": "markdown",
   "metadata": {},
   "source": [
    "Obrazová data lze zakódovat pomocí dvourozměrného pole. Neuronová síť bude mít ale na vstupu jednorozměrné pole, které následně přetvarujeme do potřebného tvaru 2x2. Hodnota 1 znamená plně rozsvícený pixel - tedy bílý, hodnota -1 představuje černý pixel."
   ]
  },
  {
   "cell_type": "code",
   "execution_count": 4,
   "metadata": {},
   "outputs": [],
   "source": [
    "x = np.array([-1, 0, 0.5, 1])"
   ]
  },
  {
   "cell_type": "code",
   "execution_count": 5,
   "metadata": {},
   "outputs": [
    {
     "data": {
      "text/plain": [
       "array([[-1. ,  0. ],\n",
       "       [ 0.5,  1. ]])"
      ]
     },
     "execution_count": 5,
     "metadata": {},
     "output_type": "execute_result"
    }
   ],
   "source": [
    "x.reshape(2, 2)"
   ]
  },
  {
   "cell_type": "code",
   "execution_count": 6,
   "metadata": {},
   "outputs": [
    {
     "data": {
      "text/plain": [
       "<matplotlib.image.AxesImage at 0x2330765bf10>"
      ]
     },
     "execution_count": 6,
     "metadata": {},
     "output_type": "execute_result"
    },
    {
     "data": {
      "image/png": "[encoded data removed]",
      "text/plain": [
       "<Figure size 576x288 with 1 Axes>"
      ]
     },
     "metadata": {
      "needs_background": "light"
     },
     "output_type": "display_data"
    }
   ],
   "source": [
    "plt.imshow(x.reshape(2, 2), cmap=plt.cm.gray, interpolation='nearest', vmin=-1, vmax=1)"
   ]
  },
  {
   "cell_type": "code",
   "execution_count": 7,
   "metadata": {},
   "outputs": [],
   "source": [
    "solid = np.array([1, 1, 1, 1])"
   ]
  },
  {
   "cell_type": "code",
   "execution_count": 8,
   "metadata": {},
   "outputs": [
    {
     "data": {
      "text/plain": [
       "<matplotlib.image.AxesImage at 0x233086d1a30>"
      ]
     },
     "execution_count": 8,
     "metadata": {},
     "output_type": "execute_result"
    },
    {
     "data": {
      "image/png": "[encoded data removed]",
      "text/plain": [
       "<Figure size 576x288 with 1 Axes>"
      ]
     },
     "metadata": {
      "needs_background": "light"
     },
     "output_type": "display_data"
    }
   ],
   "source": [
    "plt.imshow(solid.reshape(2, 2), cmap=plt.cm.gray, interpolation='nearest', vmin=-1, vmax=1)"
   ]
  },
  {
   "cell_type": "code",
   "execution_count": null,
   "metadata": {},
   "outputs": [],
   "source": [
    "vertical = np.array([])\n",
    "diagonal = np.array([])\n",
    "horizontal = np.array([])"
   ]
  },
  {
   "cell_type": "code",
   "execution_count": 9,
   "metadata": {},
   "outputs": [],
   "source": [
    "vertical = np.array([1, -1, 1, -1])\n",
    "diagonal = np.array([1, -1, -1, 1])\n",
    "horizontal = np.array([1, 1, -1, -1])"
   ]
  },
  {
   "cell_type": "code",
   "execution_count": 10,
   "metadata": {},
   "outputs": [
    {
     "data": {
      "text/plain": [
       "<matplotlib.image.AxesImage at 0x23308724df0>"
      ]
     },
     "execution_count": 10,
     "metadata": {},
     "output_type": "execute_result"
    },
    {
     "data": {
      "image/png": "[encoded data removed]",
      "text/plain": [
       "<Figure size 576x288 with 1 Axes>"
      ]
     },
     "metadata": {
      "needs_background": "light"
     },
     "output_type": "display_data"
    }
   ],
   "source": [
    "plt.imshow(vertical.reshape(2, 2), cmap=plt.cm.gray, interpolation='nearest', vmin=-1, vmax=1)"
   ]
  },
  {
   "cell_type": "markdown",
   "metadata": {},
   "source": [
    "Nyní přidáme další vrstvu, která bude mít receptivní pole ze dvou pixelů.\n",
    "\n",
    "![Druhá vrstva](img/squares_2nd.jpg)"
   ]
  },
  {
   "cell_type": "code",
   "execution_count": 11,
   "metadata": {},
   "outputs": [],
   "source": [
    "# receptivní pole - levá polovina čtverce\n",
    "weight_white_left = np.array([1, 0, 1, 0])"
   ]
  },
  {
   "cell_type": "code",
   "execution_count": 12,
   "metadata": {},
   "outputs": [
    {
     "data": {
      "text/plain": [
       "array([1, 0, 1, 0])"
      ]
     },
     "execution_count": 12,
     "metadata": {},
     "output_type": "execute_result"
    }
   ],
   "source": [
    "weight_white_left * solid"
   ]
  },
  {
   "cell_type": "code",
   "execution_count": 13,
   "metadata": {},
   "outputs": [
    {
     "data": {
      "text/plain": [
       "2"
      ]
     },
     "execution_count": 13,
     "metadata": {},
     "output_type": "execute_result"
    }
   ],
   "source": [
    "np.sum(weight_white_left * solid)"
   ]
  },
  {
   "cell_type": "code",
   "execution_count": 14,
   "metadata": {},
   "outputs": [
    {
     "data": {
      "text/plain": [
       "2"
      ]
     },
     "execution_count": 14,
     "metadata": {},
     "output_type": "execute_result"
    }
   ],
   "source": [
    "# předchozí dvě operace dohromady tvoří tzv. dot product, skalární součin\n",
    "np.dot(weight_white_left, solid)"
   ]
  },
  {
   "cell_type": "code",
   "execution_count": 15,
   "metadata": {},
   "outputs": [
    {
     "data": {
      "text/plain": [
       "2"
      ]
     },
     "execution_count": 15,
     "metadata": {},
     "output_type": "execute_result"
    }
   ],
   "source": [
    "# v pythonu lze pro dot product použít také @\n",
    "weight_white_left @ solid"
   ]
  },
  {
   "cell_type": "code",
   "execution_count": 16,
   "metadata": {},
   "outputs": [
    {
     "data": {
      "text/plain": [
       "0.9640275800758169"
      ]
     },
     "execution_count": 16,
     "metadata": {},
     "output_type": "execute_result"
    }
   ],
   "source": [
    "np.tanh(weight_white_left @ solid)"
   ]
  },
  {
   "cell_type": "code",
   "execution_count": 17,
   "metadata": {},
   "outputs": [],
   "source": [
    "# pravá polovina čtverce\n",
    "weight_white_right = np.array([0, 1, 0, 1])\n",
    "# levá polovina, nahoře bílá, dole černá\n",
    "weight_mixed_left = np.array([1, 0, -1, 0])\n",
    "# pravá polovina, nahoře bílá, dole černá\n",
    "weight_mixed_right = np.array([0, 1, 0, -1])"
   ]
  },
  {
   "cell_type": "code",
   "execution_count": 18,
   "metadata": {},
   "outputs": [
    {
     "data": {
      "text/plain": [
       "0.0"
      ]
     },
     "execution_count": 18,
     "metadata": {},
     "output_type": "execute_result"
    }
   ],
   "source": [
    "np.tanh(weight_mixed_left @ solid)"
   ]
  },
  {
   "cell_type": "code",
   "execution_count": 19,
   "metadata": {},
   "outputs": [
    {
     "data": {
      "text/plain": [
       "array([[ 1,  0,  1,  0],\n",
       "       [ 0,  1,  0,  1],\n",
       "       [ 1,  0, -1,  0],\n",
       "       [ 0,  1,  0, -1]])"
      ]
     },
     "execution_count": 19,
     "metadata": {},
     "output_type": "execute_result"
    }
   ],
   "source": [
    "# všechny váhy lze zkombinovat - a získat neurony ve druhé vrstvě, které budou postupně detekovat tyto čtyři kombinace\n",
    "weight1 = np.vstack([weight_white_left, weight_white_right, weight_mixed_left, weight_mixed_right])\n",
    "weight1"
   ]
  },
  {
   "cell_type": "code",
   "execution_count": 20,
   "metadata": {},
   "outputs": [
    {
     "data": {
      "text/plain": [
       "array([ 0.        ,  0.        ,  0.96402758, -0.96402758])"
      ]
     },
     "execution_count": 20,
     "metadata": {},
     "output_type": "execute_result"
    }
   ],
   "source": [
    "np.tanh(weight1 @ diagonal)"
   ]
  },
  {
   "cell_type": "code",
   "execution_count": 21,
   "metadata": {},
   "outputs": [
    {
     "data": {
      "text/plain": [
       "-0.9640275800758169"
      ]
     },
     "execution_count": 21,
     "metadata": {},
     "output_type": "execute_result"
    }
   ],
   "source": [
    "# umíme detekovat například černý sloupec vlevo?\n",
    "np.tanh(weight_white_left @ -solid)"
   ]
  },
  {
   "cell_type": "markdown",
   "metadata": {},
   "source": [
    "Třetí vrstva bude mít jako receptivní pole již celý čtverec.\n",
    "\n",
    "![Třetí vrstva](img/squares_3rd.jpg)"
   ]
  },
  {
   "cell_type": "code",
   "execution_count": null,
   "metadata": {},
   "outputs": [],
   "source": [
    "# Další vrstva zkombinuje předchozí neurony do receptivního pole pokrývajícího celý čtverec.\n",
    "#   - bílá vlevo + bílá vpravo = celá bílá\n",
    "#   - bílá vlevo + černá vpravo (negativní bílá vpravo) = vertikální\n",
    "#   - mixed vlevo + mixed vpravo = horizontální\n",
    "#   - mixed vlevo + obrácená mixed vpravo = diagonální\n",
    "\n",
    "weight_solid = np.array([1, 1, 0, 0])\n",
    "weight_vertical = np.array([1, -1, 0, 0])\n",
    "weight_horizontal = np.array([0, 0, 1, 1])\n",
    "weight_diagonal = np.array([0, 0, 1, -1])"
   ]
  },
  {
   "cell_type": "code",
   "execution_count": null,
   "metadata": {},
   "outputs": [],
   "source": [
    "np.tanh(weight_vertical @ np.tanh(weight1 @ -vertical))"
   ]
  },
  {
   "cell_type": "code",
   "execution_count": null,
   "metadata": {},
   "outputs": [],
   "source": [
    "# všechny váhy lze opět zkombinovat\n",
    "weight2 = np.vstack([weight_solid, weight_vertical, weight_horizontal, weight_diagonal])"
   ]
  },
  {
   "cell_type": "code",
   "execution_count": null,
   "metadata": {},
   "outputs": [],
   "source": [
    "np.tanh(weight2 @ np.tanh(weight1 @ diagonal))"
   ]
  },
  {
   "cell_type": "markdown",
   "metadata": {},
   "source": [
    "Nyní již dokážeme detekovat všechny požadované vzory. Pokud nás nezajímá, zdali je vyplněný čtverec černý nebo bílý, můžeme výstup doplnit o absolutní hodnotu. V neuronových sítích se namísto absolutní hodnoty častěji používá tzv. ReLU aktivace, Rectified Linear Unit."
   ]
  },
  {
   "cell_type": "code",
   "execution_count": null,
   "metadata": {},
   "outputs": [],
   "source": [
    "def relu(x):\n",
    "    return np.maximum(0, x)"
   ]
  },
  {
   "cell_type": "code",
   "execution_count": null,
   "metadata": {},
   "outputs": [],
   "source": [
    "xs = np.linspace(-4, 4, 101)\n",
    "ys = relu(xs)\n",
    "sns.lineplot(xs, ys, label='relu')"
   ]
  },
  {
   "cell_type": "code",
   "execution_count": null,
   "metadata": {},
   "outputs": [],
   "source": [
    "weight3 = np.array([\n",
    "    [1, 0, 0, 0],\n",
    "    [-1, 0, 0, 0],\n",
    "    [0, 1, 0, 0],\n",
    "    [0, -1, 0, 0],\n",
    "    [0, 0, 1, 0],\n",
    "    [0, 0, -1, 0],\n",
    "    [0, 0, 0, 1],\n",
    "    [0, 0, 0, -1]\n",
    "])"
   ]
  },
  {
   "cell_type": "code",
   "execution_count": null,
   "metadata": {},
   "outputs": [],
   "source": [
    "relu(weight3 @ np.tanh(weight2 @ np.tanh(weight1 @ -diagonal)))"
   ]
  },
  {
   "cell_type": "code",
   "execution_count": null,
   "metadata": {},
   "outputs": [],
   "source": [
    "weight4 = np.array([\n",
    "    [1, 1, 0, 0, 0, 0, 0, 0],\n",
    "    [0, 0, 1, 1, 0, 0, 0, 0],\n",
    "    [0, 0, 0, 0, 1, 1, 0, 0],\n",
    "    [0, 0, 0, 0, 0, 0, 1, 1]\n",
    "])"
   ]
  },
  {
   "cell_type": "code",
   "execution_count": null,
   "metadata": {},
   "outputs": [],
   "source": [
    "weight4 @ relu(weight3 @ np.tanh(weight2 @ np.tanh(weight1 @ -diagonal)))"
   ]
  },
  {
   "cell_type": "code",
   "execution_count": null,
   "metadata": {},
   "outputs": [],
   "source": [
    "# Takto použitá ReLU vrstva funguje jako absolutní hodnota.\n",
    "# V tomto jednoduchém příkladu samozřejmě můžeme použít absolutní hodnotu.\n",
    "# V mnoha aplikacích neuronových sítí je ReLU aktivace více užitečná.\n",
    "np.abs(np.tanh(weight2 @ np.tanh(weight1 @ -diagonal)))"
   ]
  },
  {
   "cell_type": "code",
   "execution_count": null,
   "metadata": {},
   "outputs": [],
   "source": [
    "# Co se stane, pokud obrázek nebude přesně jeden z těchto typů?\n",
    "# Výstupní neurony jsou postupně: solid, vertical, horizontal, diagonal\n",
    "image = np.random.uniform(-1, 1, size=4)\n",
    "plt.imshow(image.reshape(2, 2), cmap=plt.cm.gray, interpolation='nearest', vmin=-1, vmax=1)\n",
    "print(np.round(np.abs(np.tanh(weight2 @ np.tanh(weight1 @ image))), 2))"
   ]
  },
  {
   "cell_type": "markdown",
   "metadata": {},
   "source": [
    "Pokud bychom v praxi museli pro každou aplikaci vymyslet všechny váhy mezi neurony a nastavit je ručně, neuronové sítě by nebyly příliš užitečné. Skutečně užitečné neuronové sítě mají často milióny parametrů. Úspěšnost neuronových sítí pramení z toho, že jsou schopné automaticky nalézt váhy na základě vstupních tréninkových dat."
   ]
  },
  {
   "cell_type": "code",
   "execution_count": null,
   "metadata": {},
   "outputs": [],
   "source": []
  }
 ],
 "metadata": {
  "kernelspec": {
   "display_name": "Python 3",
   "language": "python",
   "name": "python3"
  },
  "language_info": {
   "codemirror_mode": {
    "name": "ipython",
    "version": 3
   },
   "file_extension": ".py",
   "mimetype": "text/x-python",
   "name": "python",
   "nbconvert_exporter": "python",
   "pygments_lexer": "ipython3",
   "version": "3.8.3"
  }
 },
 "nbformat": 4,
 "nbformat_minor": 4
}
