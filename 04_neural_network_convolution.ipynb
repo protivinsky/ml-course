{
 "cells": [
  {
   "cell_type": "markdown",
   "metadata": {},
   "source": [
    "# Convolutional Neural Network (CNN, ConvNet)\n",
    "\n",
    "Neuronové sítě pro rozpoznávání a zpracovávání obrazu. Typická architektura:\n",
    "\n",
    "![CNN Architecture](img/cnn_architecture.jpg)\n",
    "\n",
    "Konvoluční vrstvy aplikují filtr (konvoluci), která umožňuje detekci elementární geometrických tvarů (například čáry či křivky různých orientací):\n",
    "\n",
    "![CNN First Layer](img/cnn_first_layer.jpg)\n",
    "\n",
    "Další vrstvy postupně kombinují základní tvary a jsou schopné detekovat složitější a složitější struktury:\n",
    "\n",
    "![CNN Other Layers](img/cnn_second_layer.jpg)\n",
    "\n",
    "Kód níže ukazuje, jak takový konvoluční filtr může fungovat."
   ]
  },
  {
   "cell_type": "code",
   "execution_count": null,
   "metadata": {},
   "outputs": [],
   "source": [
    "# import of common python libraries\n",
    "import numpy as np\n",
    "import pandas as pd\n",
    "import time\n",
    "import matplotlib.pyplot as plt\n",
    "plt.rcParams['figure.figsize'] = 6, 3\n",
    "import seaborn as sns"
   ]
  },
  {
   "cell_type": "code",
   "execution_count": null,
   "metadata": {},
   "outputs": [],
   "source": [
    "plt.rcParams['axes.grid'] = False\n",
    "plt.rcParams['xtick.bottom'] = False\n",
    "plt.rcParams['ytick.left'] = False\n",
    "plt.rcParams['xtick.labelsize'] = 0\n",
    "plt.rcParams['ytick.labelsize'] = 0\n",
    "plt.rcParams['axes.spines.top'] = True\n",
    "plt.rcParams['axes.spines.right'] = True"
   ]
  },
  {
   "cell_type": "code",
   "execution_count": null,
   "metadata": {},
   "outputs": [],
   "source": [
    "# loading of MNIST data stored on the drive\n",
    "X_raw = np.load('data\\\\mnist_x.npy')\n",
    "X = (X_raw / 255).astype('float32').T"
   ]
  },
  {
   "cell_type": "code",
   "execution_count": null,
   "metadata": {},
   "outputs": [],
   "source": [
    "# show one image\n",
    "n = 2\n",
    "plt.imshow(X[:,n].reshape(28, 28), cmap=plt.cm.gray_r, interpolation='nearest', vmin=0, vmax=1)"
   ]
  },
  {
   "cell_type": "markdown",
   "metadata": {},
   "source": [
    "Filtr o velikosti 5x5 pro detekci svislých čar může být definovaný například takto (v praxi se neuronová síť naučí rozpoznávat základní typy geometrických tvarů sama o sobě). Neurony v konvoluční vrstvě jsou aktivovány tam, kde se vyskytují příslušné vzory na obrázku."
   ]
  },
  {
   "cell_type": "code",
   "execution_count": null,
   "metadata": {},
   "outputs": [],
   "source": [
    "vertical_filter = np.array([\n",
    "    [-1, 1, 1, -1, 0],\n",
    "    [-1, 1, 1, -1, 0],\n",
    "    [-1, 1, 1, -1, 0],\n",
    "    [-1, 1, 1, -1, 0],\n",
    "    [0, 0, 0, 0, 0]    \n",
    "])"
   ]
  },
  {
   "cell_type": "code",
   "execution_count": null,
   "metadata": {},
   "outputs": [],
   "source": [
    "plt.imshow(vertical_filter, cmap=plt.cm.RdBu, interpolation='nearest', vmin=-1.5, vmax=1.5)"
   ]
  },
  {
   "cell_type": "code",
   "execution_count": null,
   "metadata": {},
   "outputs": [],
   "source": [
    "from scipy.signal import convolve2d"
   ]
  },
  {
   "cell_type": "code",
   "execution_count": null,
   "metadata": {},
   "outputs": [],
   "source": [
    "black = np.ones(25)\n",
    "white = np.zeros(25)\n",
    "vertical = np.array([\n",
    "    0, 1, 1, 0, 0,\n",
    "    0, 1, 1, 0, 0, \n",
    "    0, 1, 1, 0, 0,\n",
    "    0, 1, 1, 0, 0, \n",
    "    0, 1, 1, 0, 0,\n",
    "])\n",
    "horizontal = np.array([\n",
    "    0, 0, 0, 0, 0,\n",
    "    1, 1, 1, 1, 1,\n",
    "    1, 1, 1, 1, 1,\n",
    "    0, 0, 0, 0, 0,\n",
    "    0, 0, 0, 0, 0,\n",
    "])"
   ]
  },
  {
   "cell_type": "code",
   "execution_count": null,
   "metadata": {},
   "outputs": [],
   "source": [
    "small_images = [black, white, vertical, horizontal]"
   ]
  },
  {
   "cell_type": "code",
   "execution_count": null,
   "metadata": {},
   "outputs": [],
   "source": [
    "plt.rcParams['figure.figsize'] = 12, 4\n",
    "fig, ax = plt.subplots(1, 4)\n",
    "for i, img in enumerate(small_images):\n",
    "    ax[i].imshow(img.reshape([5, 5]), cmap=plt.cm.gray_r, interpolation='nearest', vmin=0, vmax=1)\n",
    "plt.rcParams['figure.figsize'] = 6, 3"
   ]
  },
  {
   "cell_type": "code",
   "execution_count": null,
   "metadata": {},
   "outputs": [],
   "source": [
    "plt.imshow(vertical_filter, cmap=plt.cm.RdBu, interpolation='nearest', vmin=-1.5, vmax=1.5)"
   ]
  },
  {
   "cell_type": "markdown",
   "metadata": {},
   "source": [
    "Aplikace filtru znamená překrytí filtru a zdrojového obrázku a následné pronásobení a nasčítání všech hodnot (tato operace se matematicky nazývá konvoluce). Pokud je zdrojový obrázek větší než filtr, pak se filtr postupně posouvá po celém obrázku a vytvoří se výstupní matice s aplikovaným filtrem, která ukazuje, kde byl daný geometrický tvar detekovaný."
   ]
  },
  {
   "cell_type": "code",
   "execution_count": null,
   "metadata": {},
   "outputs": [],
   "source": [
    "[convolve2d(img.reshape(5, 5), vertical_filter[::-1,::-1], mode='valid') for img in small_images]"
   ]
  },
  {
   "cell_type": "code",
   "execution_count": null,
   "metadata": {},
   "outputs": [],
   "source": [
    "conv = convolve2d(X[:,n].reshape(28, 28), vertical_filter[::-1,::-1], mode='valid')"
   ]
  },
  {
   "cell_type": "code",
   "execution_count": null,
   "metadata": {},
   "outputs": [],
   "source": [
    "def relu(x):\n",
    "    return np.maximum(0, x)"
   ]
  },
  {
   "cell_type": "code",
   "execution_count": null,
   "metadata": {},
   "outputs": [],
   "source": [
    "xs = np.linspace(-4, 4, 101)\n",
    "ys = relu(xs)\n",
    "sns.lineplot(xs, ys, label='relu')"
   ]
  },
  {
   "cell_type": "code",
   "execution_count": null,
   "metadata": {},
   "outputs": [],
   "source": [
    "plt.imshow(X[:,n].reshape(28, 28), cmap=plt.cm.gray_r, interpolation='nearest', vmin=0, vmax=1)"
   ]
  },
  {
   "cell_type": "code",
   "execution_count": null,
   "metadata": {},
   "outputs": [],
   "source": [
    "plt.imshow(relu(conv), cmap=plt.cm.gray_r, interpolation='nearest')"
   ]
  },
  {
   "cell_type": "code",
   "execution_count": null,
   "metadata": {},
   "outputs": [],
   "source": [
    "horizontal_filter = vertical_filter.T\n",
    "major_diag_filter = np.array([\n",
    "    [0, 1, -1, 0, 0],\n",
    "    [-1, 1, 1, -1, 0],\n",
    "    [0, -1, 1, 1, -1],\n",
    "    [0, 0, -1, 1, 1],\n",
    "    [0, 0, 0, -1, 0]\n",
    "])\n",
    "minor_diag_filter = major_diag_filter[:, ::-1]"
   ]
  },
  {
   "cell_type": "code",
   "execution_count": null,
   "metadata": {},
   "outputs": [],
   "source": [
    "labelled_filters = [\n",
    "    ('Vertical', vertical_filter),\n",
    "    ('Horizontal', horizontal_filter),\n",
    "    ('Major diag', major_diag_filter),\n",
    "    ('Minor diag', minor_diag_filter)\n",
    "]"
   ]
  },
  {
   "cell_type": "code",
   "execution_count": null,
   "metadata": {},
   "outputs": [],
   "source": [
    "plt.rcParams['figure.figsize'] = 12, 4\n",
    "fig, ax = plt.subplots(1, 4)\n",
    "for i, (l, f) in enumerate(labelled_filters):\n",
    "    ax[i].imshow(f, cmap=plt.cm.RdBu, interpolation='nearest', vmin=-1.5, vmax=1.5)\n",
    "    ax[i].set_title(l)\n",
    "plt.rcParams['figure.figsize'] = 6, 3"
   ]
  },
  {
   "cell_type": "code",
   "execution_count": null,
   "metadata": {},
   "outputs": [],
   "source": [
    "im = X[:, np.random.randint(X.shape[1])].reshape(28, 28)\n",
    "plt.imshow(im, cmap=plt.cm.gray_r, interpolation='nearest', vmin=0, vmax=1)"
   ]
  },
  {
   "cell_type": "code",
   "execution_count": null,
   "metadata": {},
   "outputs": [],
   "source": [
    "plt.rcParams['figure.figsize'] = 12, 4\n",
    "fig, ax = plt.subplots(1, 4)\n",
    "\n",
    "for j, (l, f) in enumerate(labelled_filters):\n",
    "    vert_conv = relu(convolve2d(im, f[::-1,::-1], mode='valid'))\n",
    "    ax[j].imshow(vert_conv, cmap=plt.cm.gray_r, interpolation='nearest', vmin=0, vmax=12)\n",
    "    ax[j].set_title(l)\n",
    "\n",
    "plt.rcParams['figure.figsize'] = 6, 3"
   ]
  },
  {
   "cell_type": "code",
   "execution_count": null,
   "metadata": {},
   "outputs": [],
   "source": [
    "plt.rcParams['figure.figsize'] = 16, 16\n",
    "\n",
    "fig, ax = plt.subplots(5, 5)\n",
    "plt.subplots_adjust(hspace=0.3)\n",
    "perm = np.random.permutation(X.shape[1])[:5]\n",
    "for i, n in enumerate(perm):\n",
    "    im = X[:,n].reshape(28, 28)\n",
    "    ax[i][0].imshow(im, cmap=plt.cm.gray_r, interpolation='nearest', vmin=0, vmax=1)\n",
    "    ax[i][0].set_title('Number')\n",
    "    \n",
    "    for j, (l, f) in enumerate(labelled_filters):\n",
    "        vert_conv = relu(convolve2d(im, f[::-1,::-1], mode='valid'))\n",
    "        ax[i][1 + j].imshow(vert_conv, cmap=plt.cm.gray_r, interpolation='nearest', vmin=0, vmax=12)\n",
    "        ax[i][1 + j].set_title(l)\n",
    "    \n",
    "plt.rcParams['figure.figsize'] = 6, 3"
   ]
  },
  {
   "cell_type": "markdown",
   "metadata": {},
   "source": [
    "Konvoluční vrstva je typicky kombinována s tzv. pooling vrstvou - zmenší rozměry obrázku na polovinu, zpravidla nahradí plošku 2x2 průměrem či maximem z daných hodnot. Konvoluční neuronová síť se sama naučí vhodné filtry podle trénovacích vstupních dat."
   ]
  },
  {
   "cell_type": "code",
   "execution_count": null,
   "metadata": {},
   "outputs": [],
   "source": []
  }
 ],
 "metadata": {
  "kernelspec": {
   "display_name": "Python 3",
   "language": "python",
   "name": "python3"
  },
  "language_info": {
   "codemirror_mode": {
    "name": "ipython",
    "version": 3
   },
   "file_extension": ".py",
   "mimetype": "text/x-python",
   "name": "python",
   "nbconvert_exporter": "python",
   "pygments_lexer": "ipython3",
   "version": "3.8.3"
  }
 },
 "nbformat": 4,
 "nbformat_minor": 4
}
